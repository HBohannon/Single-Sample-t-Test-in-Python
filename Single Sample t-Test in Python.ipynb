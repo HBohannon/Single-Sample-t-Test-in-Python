{
 "cells": [
  {
   "cell_type": "code",
   "execution_count": 1,
   "id": "47e3c69d-217d-4c40-9cc9-47851dc17890",
   "metadata": {},
   "outputs": [],
   "source": [
    "import pandas as pd\n",
    "import numpy as np\n",
    "from scipy.stats import norm\n",
    "from scipy import stats\n",
    "import matplotlib"
   ]
  },
  {
   "cell_type": "code",
   "execution_count": 2,
   "id": "9f9dee7b-fe49-4be3-be06-639b38ab7ac7",
   "metadata": {},
   "outputs": [
    {
     "name": "stdout",
     "output_type": "stream",
     "text": [
      "    carid                vehicle  year   msrp  accelrate  mpg  mpgmpge  \\\n",
      "0     111                Prius C  2013  19080       8.70   50       50   \n",
      "1     112                  Jetta  2013  24995      12.66   45       45   \n",
      "2     113                  Civic  2013  24360      10.20   44       44   \n",
      "3     114                  Prius  2013  24200      10.20   50       50   \n",
      "4     115             Fusion FWD  2013  27200      11.72   47       47   \n",
      "5     116              C-Max FWD  2013  25200      12.35   43       43   \n",
      "6     117                Insight  2013  18600      11.76   42       42   \n",
      "7     118               Camry LE  2013  26140      13.51   41       41   \n",
      "8     119             Camry LXLE  2013  27670      13.33   40       40   \n",
      "9     120                 Sonata  2013  25650      11.76   38       38   \n",
      "10    121                 Optima  2013  25900      11.63   38       38   \n",
      "11    122         Sonata Limited  2013  30550      11.76   37       37   \n",
      "12    123              Optima EX  2013  31950      11.36   37       37   \n",
      "13    124                 Malibu  2013  24985      11.49   29       29   \n",
      "14    125               LaCrosse  2013  31660      11.36   29       29   \n",
      "15    126                  Regal  2013  29015      12.20   29       29   \n",
      "16    127                RX 450h  2013  46310      12.99   30       30   \n",
      "17    128         Highlander 4WD  2013  40170      13.89   28       28   \n",
      "18    129                     Q5  2013  50900      14.71   26       26   \n",
      "19    130              Cayenne S  2013  69850      16.39   21       21   \n",
      "20    131                Touareg  2013  62575      16.13   21       21   \n",
      "21    132           Escalade 2WD  2013  74425      11.63   21       21   \n",
      "22    133              Tahoe 2WD  2013  53620      11.90   21       21   \n",
      "23    134             Yukon 1500  2013  54145      11.88   21       21   \n",
      "24    135             Yukon 1500  2013  61960      13.33   21       21   \n",
      "25    137                MKZ FWD  2013  35925      14.03   45       45   \n",
      "26    138                CT 200h  2013  32050      10.31   42       42   \n",
      "27    139                ES 300h  2013  39250      12.35   40       40   \n",
      "28    140                    ILX  2013  28900       9.26   38       38   \n",
      "29    141         ActiveHybrid 3  2013  49650      14.93   28       28   \n",
      "30    142       Silverado 15 2WD  2013  41135      12.35   21       21   \n",
      "31    143          Sierra 15 2WD  2013  41555      10.00   21       21   \n",
      "32    144                GS 450h  2013  59450      16.67   31       31   \n",
      "33    145                   M35h  2013  54750      19.61   29       29   \n",
      "34    146                   E400  2013  55800      14.93   26       26   \n",
      "35    147         ActiveHybrid 5  2013  61400      12.99   26       26   \n",
      "36    148        ActiveHybrid 7L  2013  84300      18.18   25       25   \n",
      "37    149             Panamera S  2013  96150      18.52   25       25   \n",
      "38    150                   S400  2013  92350      13.89   21       21   \n",
      "39    151          Prius Plug-in  2013  32000       9.17   50       95   \n",
      "40    152   C-Max Energi Plug-in  2013  32950      11.76   43      100   \n",
      "41    153  Fusion Energi Plug-in  2013  38700      11.76   43      100   \n",
      "42    154         Chevrolet Volt  2013  39145      11.11   37       98   \n",
      "\n",
      "   carclass  carclass_id  \n",
      "0         C            1  \n",
      "1         C            1  \n",
      "2         C            1  \n",
      "3         M            3  \n",
      "4         M            3  \n",
      "5         L            2  \n",
      "6         C            1  \n",
      "7         M            3  \n",
      "8         M            3  \n",
      "9         M            3  \n",
      "10        M            3  \n",
      "11        M            3  \n",
      "12        M            3  \n",
      "13        M            3  \n",
      "14        M            3  \n",
      "15        M            3  \n",
      "16      SUV            6  \n",
      "17      SUV            6  \n",
      "18      SUV            6  \n",
      "19      SUV            6  \n",
      "20      SUV            6  \n",
      "21      SUV            6  \n",
      "22      SUV            6  \n",
      "23      SUV            6  \n",
      "24      SUV            6  \n",
      "25        M            3  \n",
      "26        C            1  \n",
      "27        M            3  \n",
      "28        C            1  \n",
      "29        C            1  \n",
      "30       PT            5  \n",
      "31       PT            5  \n",
      "32        M            3  \n",
      "33        M            3  \n",
      "34        M            3  \n",
      "35        M            3  \n",
      "36        L            2  \n",
      "37        L            2  \n",
      "38        L            2  \n",
      "39        M            3  \n",
      "40        M            3  \n",
      "41        M            3  \n",
      "42        C            1  \n"
     ]
    }
   ],
   "source": [
    "hybrid2013 = pd.read_csv(r'C:/Users/Hanna Bohannon/Documents/DS0103 Notes and Assignments/DS0103_data/Hybrid2013.csv')\n",
    "print(hybrid2013)"
   ]
  },
  {
   "cell_type": "code",
   "execution_count": 3,
   "id": "83045d75-fb97-441b-ab9a-2fc9d749191c",
   "metadata": {},
   "outputs": [
    {
     "data": {
      "text/plain": [
       "<AxesSubplot:>"
      ]
     },
     "execution_count": 3,
     "metadata": {},
     "output_type": "execute_result"
    },
    {
     "data": {
      "image/png": "[encoded data removed]",
      "text/plain": [
       "<Figure size 432x288 with 1 Axes>"
      ]
     },
     "metadata": {
      "needs_background": "light"
     },
     "output_type": "display_data"
    }
   ],
   "source": [
    "hybrid2013['mpg'].hist()"
   ]
  },
  {
   "cell_type": "code",
   "execution_count": 4,
   "id": "5c846f05-f4dc-441a-9a73-205ec14503c8",
   "metadata": {},
   "outputs": [
    {
     "data": {
      "text/plain": [
       "Ttest_1sampResult(statistic=-4.427320491687408, pvalue=6.67005084670698e-05)"
      ]
     },
     "execution_count": 4,
     "metadata": {},
     "output_type": "execute_result"
    }
   ],
   "source": [
    "stats.ttest_1samp(hybrid2013['mpg'], 40)"
   ]
  },
  {
   "cell_type": "code",
   "execution_count": 5,
   "id": "fd21cc15-4c28-44a3-9a2f-1dbd91428b6c",
   "metadata": {},
   "outputs": [
    {
     "data": {
      "text/plain": [
       "33.48837209302326"
      ]
     },
     "execution_count": 5,
     "metadata": {},
     "output_type": "execute_result"
    }
   ],
   "source": [
    "hybrid2013.mpg.mean()"
   ]
  }
 ],
 "metadata": {
  "kernelspec": {
   "display_name": "Python 3 (ipykernel)",
   "language": "python",
   "name": "python3"
  },
  "language_info": {
   "codemirror_mode": {
    "name": "ipython",
    "version": 3
   },
   "file_extension": ".py",
   "mimetype": "text/x-python",
   "name": "python",
   "nbconvert_exporter": "python",
   "pygments_lexer": "ipython3",
   "version": "3.10.4"
  }
 },
 "nbformat": 4,
 "nbformat_minor": 5
}
